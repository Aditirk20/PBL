{
  "cells": [
    {
      "cell_type": "markdown",
      "metadata": {
        "id": "CUhqNxEcT_0p"
      },
      "source": [
        "Importing the required libraries\n"
      ]
    },
    {
      "cell_type": "code",
      "execution_count": null,
      "metadata": {
        "id": "LHUwTR-jWAmd"
      },
      "outputs": [],
      "source": [
        "import numpy as np\n",
        "import string\n",
        "import nltk\n",
        "import random\n"
      ]
    },
    {
      "cell_type": "markdown",
      "metadata": {
        "id": "wa0c3bAsWbtw"
      },
      "source": [
        "importing and reading the corpus"
      ]
    },
    {
      "cell_type": "code",
      "execution_count": null,
      "metadata": {
        "colab": {
          "base_uri": "https://localhost:8080/"
        },
        "id": "nEOYTpTkWguJ",
        "outputId": "ccadce3c-8413-4083-e818-92631d508f1a"
      },
      "outputs": [
        {
          "output_type": "stream",
          "name": "stderr",
          "text": [
            "[nltk_data] Downloading package punkt to /root/nltk_data...\n",
            "[nltk_data]   Unzipping tokenizers/punkt.zip.\n",
            "[nltk_data] Downloading package wordnet to /root/nltk_data...\n"
          ]
        }
      ],
      "source": [
        "f=open('ganeshanamah.txt','r',errors='ignore')\n",
        "raw_doc=f.read()\n",
        "raw_doc=raw_doc.lower()\n",
        "nltk.download('punkt')\n",
        "nltk.download('wordnet')\n",
        "sent_tokens= nltk.sent_tokenize(raw_doc) # converts doc to sentences\n",
        "word_tokens = nltk.word_tokenize(raw_doc) # converts doc to list of words"
      ]
    },
    {
      "cell_type": "markdown",
      "metadata": {
        "id": "1npp_N8GsHjy"
      },
      "source": [
        "exampls of sentence token"
      ]
    },
    {
      "cell_type": "code",
      "execution_count": null,
      "metadata": {
        "colab": {
          "base_uri": "https://localhost:8080/"
        },
        "id": "h2j-DangsG3D",
        "outputId": "47eb8451-e6bf-42b9-d486-04f8326f4105"
      },
      "outputs": [
        {
          "output_type": "execute_result",
          "data": {
            "text/plain": [
              "['\\nprincipal of mvp kbt coe  dr. satish r. devane :ph.d., m.e.(electronics).']"
            ]
          },
          "metadata": {},
          "execution_count": 3
        }
      ],
      "source": [
        "sent_tokens[0:1]"
      ]
    },
    {
      "cell_type": "markdown",
      "metadata": {
        "id": "zVchck32st3B"
      },
      "source": [
        "example of word token"
      ]
    },
    {
      "cell_type": "code",
      "execution_count": null,
      "metadata": {
        "colab": {
          "base_uri": "https://localhost:8080/"
        },
        "id": "MHjhXIAetFPk",
        "outputId": "bf7c5335-6c80-4bc6-97e8-8dd07234ee1e"
      },
      "outputs": [
        {
          "output_type": "execute_result",
          "data": {
            "text/plain": [
              "['of']"
            ]
          },
          "metadata": {},
          "execution_count": 4
        }
      ],
      "source": [
        "word_tokens[1:2]"
      ]
    },
    {
      "cell_type": "markdown",
      "metadata": {
        "id": "hu1MkJF8czHX"
      },
      "source": [
        "text processing"
      ]
    },
    {
      "cell_type": "code",
      "execution_count": null,
      "metadata": {
        "id": "0Bz21RekaWlB"
      },
      "outputs": [],
      "source": [
        "#takes tokens and return normalised tokens\n",
        "lemmer = nltk.stem.WordNetLemmatizer()\n",
        "def LemTokens(tokens):\n",
        "  return [lemmer.lemmatize(token)for token in tokens]\n",
        "remove_punct_dict = dict((ord(punct), None ) for punct in string.punctuation)\n",
        "def LemNormalize(text):\n",
        "    return LemTokens(nltk.word_tokenize(text.lower().translate(remove_punct_dict)))"
      ]
    },
    {
      "cell_type": "markdown",
      "metadata": {
        "id": "f0iCk_5Nc6RV"
      },
      "source": [
        "greeting"
      ]
    },
    {
      "cell_type": "code",
      "execution_count": null,
      "metadata": {
        "id": "RezQGY99c9By"
      },
      "outputs": [],
      "source": [
        "GREET_INPUTS = (\"hiii\",\"hi\",\"hii\", \"hello\")\n",
        "GREET_RESPONSES =[ \" Hello Kbtians\" , \"Nmahskar\"]\n",
        "def greet(sentence):\n",
        "\n",
        "  for word in sentence.split():\n",
        "    if word.lower() in GREET_INPUTS:\n",
        "      return random.choice(GREET_RESPONSES)"
      ]
    },
    {
      "cell_type": "markdown",
      "metadata": {
        "id": "yIdevOCteQuF"
      },
      "source": [
        "RESPONSE GENERATION"
      ]
    },
    {
      "cell_type": "code",
      "execution_count": null,
      "metadata": {
        "id": "K2WMLPxHeTzy"
      },
      "outputs": [],
      "source": [
        "from sklearn.feature_extraction.text import TfidfVectorizer\n",
        "from sklearn.metrics.pairwise import cosine_similarity"
      ]
    },
    {
      "cell_type": "code",
      "execution_count": null,
      "metadata": {
        "id": "iDqNBU3Ies2T"
      },
      "outputs": [],
      "source": [
        "def response(user_response):\n",
        "  robo1_response=''\n",
        "  Tfidvec= TfidfVectorizer(tokenizer=LemNormalize, stop_words='english')\n",
        "  tfidf= Tfidvec.fit_transform(sent_tokens)\n",
        "  vals=cosine_similarity(tfidf[-1],tfidf)\n",
        "  idx=vals.argsort()[0][-2]\n",
        "  flat = vals.flatten()\n",
        "  flat.sort()\n",
        "  req_tfidf=flat[-2]\n",
        "  if(req_tfidf == 0):\n",
        "    robo1_response=robo1_response+\"I am sorry i did't got the question\"\n",
        "    return robo1_response\n",
        "  else:\n",
        "    robo1_response = robo1_response+sent_tokens[idx]\n",
        "    return robo1_response\n",
        "\n"
      ]
    },
    {
      "cell_type": "code",
      "execution_count": null,
      "metadata": {
        "colab": {
          "base_uri": "https://localhost:8080/"
        },
        "id": "zFRUSQfEhbke",
        "outputId": "01117248-64b9-4b0c-efdd-f69b76733f62"
      },
      "outputs": [
        {
          "output_type": "stream",
          "name": "stdout",
          "text": [
            "BOT :Hey, I am ChatKBT. I will tell you about MVP KBT COE . \n",
            "hello\n",
            "Bot :  Hello Kbtians\n",
            "tell me principal name\n",
            "BOT : \n",
            "principal of mvp kbt coe  dr. satish r. devane :ph.d., m.e.(electronics).\n",
            "departments in kbt coe\n",
            "BOT : list of department in kbt coe \n",
            "1) cs\n",
            "2)it\n",
            "3)entc\n",
            "4)mech\n",
            "5)civil\n",
            "6)instru.\n",
            "hod of it\n",
            "BOT : head of department (hod) of information technology is dr.v.r.sonawane.\n",
            "moto of mvp\n",
            "BOT : the moto of mvp samaj kbtis “bahujan hitay bahujan sukhay”, for the well being and happiness of the masses to kindle the social cause.\n",
            "inspiration of mvp kbt coe\n",
            "BOT : source of inspiration of mvp kbt coe is \n",
            "1)late.karmaveer raosaheb thorat \n",
            "2) late.karmaveer bhausaheb hire\n",
            "3) late.karmaveer kakasaheb wagh.\n",
            "thanks\n",
            "BOT : Its my pleasure\n"
          ]
        }
      ],
      "source": [
        "\n",
        "flag = True\n",
        "print(\"BOT :Hey, I am ChatKBT. I will tell you about MVP KBT COE . \")\n",
        "while(flag == True):\n",
        "    user_response = input()\n",
        "    user_response = user_response.lower()\n",
        "    if(user_response!='bye'):\n",
        "      if(user_response=='thanks' or user_response=='thank you'):\n",
        "        flag=False\n",
        "        print(\"BOT : Its my pleasure\")\n",
        "      else :\n",
        "        if(greet(user_response)!=None):\n",
        "          print(\"Bot : \"+greet(user_response))\n",
        "        else :\n",
        "          sent_tokens.append(user_response)\n",
        "          word_tokens=word_tokens+nltk.word_tokenize(user_response)\n",
        "          final_words=list(set(word_tokens))\n",
        "          print(\"BOT : \", end=\"\")\n",
        "          print(response(user_response))\n",
        "          sent_tokens.remove(user_response)\n",
        "\n",
        "    else :\n",
        "      flag = False\n",
        "      print(\"BOT : byee see you soon <3\")"
      ]
    }
  ],
  "metadata": {
    "colab": {
      "provenance": []
    },
    "kernelspec": {
      "display_name": "Python 3",
      "name": "python3"
    },
    "language_info": {
      "name": "python"
    }
  },
  "nbformat": 4,
  "nbformat_minor": 0
}